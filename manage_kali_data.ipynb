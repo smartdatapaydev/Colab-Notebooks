{
  "nbformat": 4,
  "nbformat_minor": 0,
  "metadata": {
    "colab": {
      "provenance": [],
      "authorship_tag": "ABX9TyPlzwU9Mzb3DKuml6BNhXE5",
      "include_colab_link": true
    },
    "kernelspec": {
      "name": "python3",
      "display_name": "Python 3"
    },
    "language_info": {
      "name": "python"
    }
  },
  "cells": [
    {
      "cell_type": "markdown",
      "metadata": {
        "id": "view-in-github",
        "colab_type": "text"
      },
      "source": [
        "<a href=\"https://colab.research.google.com/github/smartdatapaydev/playground/blob/main/manage_kali_data.ipynb\" target=\"_parent\"><img src=\"https://colab.research.google.com/assets/colab-badge.svg\" alt=\"Open In Colab\"/></a>"
      ]
    },
    {
      "cell_type": "code",
      "execution_count": null,
      "metadata": {
        "id": "RZMqlnU-MNbL"
      },
      "outputs": [],
      "source": []
    },
    {
      "cell_type": "markdown",
      "source": [
        "# Get Data\n",
        "\n"
      ],
      "metadata": {
        "id": "8Giou_IoMTB0"
      }
    },
    {
      "cell_type": "code",
      "source": [
        "!git clone https://github.com/SocialGouv/kali-data.git"
      ],
      "metadata": {
        "colab": {
          "base_uri": "https://localhost:8080/"
        },
        "id": "4QbVwGRhMWbs",
        "outputId": "a97da9e1-2e5c-4e0f-c1de-8e0a0ed0762f"
      },
      "execution_count": null,
      "outputs": [
        {
          "output_type": "stream",
          "name": "stdout",
          "text": [
            "Cloning into 'kali-data'...\n",
            "remote: Enumerating objects: 24685, done.\u001b[K\n",
            "remote: Counting objects: 100% (3659/3659), done.\u001b[K\n",
            "remote: Compressing objects: 100% (434/434), done.\u001b[K\n",
            "remote: Total 24685 (delta 3149), reused 3565 (delta 3064), pack-reused 21026\u001b[K\n",
            "Receiving objects: 100% (24685/24685), 1.45 GiB | 25.47 MiB/s, done.\n"
          ]
        }
      ]
    },
    {
      "cell_type": "code",
      "source": [
        "!ls -lsa"
      ],
      "metadata": {
        "id": "p2iUAp7vM2Hc"
      },
      "execution_count": null,
      "outputs": []
    },
    {
      "cell_type": "markdown",
      "source": [
        "# Save Into Database\n",
        "\n",
        "User: smartdatapay_dba\n",
        "Pass : cbfuzuulYVozMAl0"
      ],
      "metadata": {
        "id": "lqnqaeVJMb47"
      }
    }
  ]
}